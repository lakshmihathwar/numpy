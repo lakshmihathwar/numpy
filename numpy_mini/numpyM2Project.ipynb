{
  "nbformat": 4,
  "nbformat_minor": 0,
  "metadata": {
    "colab": {
      "provenance": []
    },
    "kernelspec": {
      "name": "python3",
      "display_name": "Python 3"
    },
    "language_info": {
      "name": "python"
    }
  },
  "cells": [
    {
      "cell_type": "code",
      "source": [
        "import numpy as np"
      ],
      "metadata": {
        "id": "rupWBey2bwfR"
      },
      "execution_count": null,
      "outputs": []
    },
    {
      "cell_type": "markdown",
      "source": [
        "# Student Marks Management System"
      ],
      "metadata": {
        "id": "1UON4lfCbWg6"
      }
    },
    {
      "cell_type": "markdown",
      "source": [
        "🎯 Objective: You are working with student marks data and need to prepare and organize it using NumPy arrays.Your goal is to create, modify, and analyze the data efficiently without using any external libraries.\n",
        "\n",
        "🧠 Project Description: A school has recorded the marks of several students in different subjects.You are required to design a NumPy-based solution to store, manage, and process this data.Your tasks involve creating arrays, changing their shapes, combining data, performing modifications, and analyzing patterns — all using NumPy.\n",
        "\n",
        "📋 Project Tasks: **Data Creation:**Create suitable arrays to represent students, subjects, and their marks.\n",
        "\n",
        "**Data Exploration:**Explore the properties of these arrays — such as their dimensions, size, and structure.\n",
        "\n",
        "**Data Transformation:**Perform necessary reshaping and reorganization of the data to suit various operations.\n",
        "\n",
        "**Data Combination:**Merge or split arrays to simulate adding new students, new subjects, or reorganizing the dataset.\n",
        "\n",
        "**Data Modification:**Apply operations to update marks, remove data, or identify unique information.\n",
        "\n",
        "**Data Type Handling:**Demonstrate how the same data can exist in different data types and how changes affect results.\n",
        "\n",
        "**Copy and View Behavior:**Show the difference between creating a full copy of an array and creating a view of the same data.\n",
        "\n"
      ],
      "metadata": {
        "id": "N0s-9R2-biM4"
      }
    },
    {
      "cell_type": "markdown",
      "source": [
        "# Data Creation"
      ],
      "metadata": {
        "id": "R0oSRWW_LR2A"
      }
    },
    {
      "cell_type": "code",
      "source": [
        "arr_std = np.array([\"A\",\"B\",\"C\",\"D\"])\n",
        "arr_sub = np.array([\"S1\",\"S2\",\"S3\",\"S4\"])\n",
        "arr_marks = np.array([[10,20,30,40],[15,60,70,80],[15,80,40,20],[25,40,50,60]])"
      ],
      "metadata": {
        "id": "k7S44kJYbdsx"
      },
      "execution_count": null,
      "outputs": []
    },
    {
      "cell_type": "markdown",
      "source": [
        "# Data Exploration"
      ],
      "metadata": {
        "id": "9yT9y42iLYwl"
      }
    },
    {
      "cell_type": "code",
      "source": [
        "print(arr_std.ndim)\n",
        "print(arr_sub.ndim)\n",
        "print(arr_marks.ndim)"
      ],
      "metadata": {
        "colab": {
          "base_uri": "https://localhost:8080/"
        },
        "id": "thSYn5bCbty6",
        "outputId": "14dc4269-5e1c-4f70-bdf1-38edd064567b"
      },
      "execution_count": null,
      "outputs": [
        {
          "output_type": "stream",
          "name": "stdout",
          "text": [
            "1\n",
            "1\n",
            "2\n"
          ]
        }
      ]
    },
    {
      "cell_type": "code",
      "source": [
        "print(arr_marks.shape)"
      ],
      "metadata": {
        "colab": {
          "base_uri": "https://localhost:8080/"
        },
        "id": "_lGDrTELb3oG",
        "outputId": "ced83f3b-66f3-47b7-e1dc-026515beedff"
      },
      "execution_count": null,
      "outputs": [
        {
          "output_type": "stream",
          "name": "stdout",
          "text": [
            "(4, 4)\n"
          ]
        }
      ]
    },
    {
      "cell_type": "code",
      "source": [
        "print(arr_std.size)\n",
        "print(arr_sub.size)\n",
        "print(arr_marks.size)"
      ],
      "metadata": {
        "colab": {
          "base_uri": "https://localhost:8080/"
        },
        "id": "ULQARGLHb6C7",
        "outputId": "dc5493f9-df13-4b7b-e7f0-faecbd260e1a"
      },
      "execution_count": null,
      "outputs": [
        {
          "output_type": "stream",
          "name": "stdout",
          "text": [
            "4\n",
            "4\n",
            "16\n"
          ]
        }
      ]
    },
    {
      "cell_type": "markdown",
      "source": [
        "# Data Transformation"
      ],
      "metadata": {
        "id": "PpL_nWFrLfmU"
      }
    },
    {
      "cell_type": "code",
      "source": [
        "arr_subjects=np.repeat(arr_sub,4)"
      ],
      "metadata": {
        "id": "sMmLwBQTb8nA"
      },
      "execution_count": null,
      "outputs": []
    },
    {
      "cell_type": "code",
      "source": [
        "arr_subjects = arr_subjects.reshape(4,4)"
      ],
      "metadata": {
        "id": "VLPUd1H1cCOr"
      },
      "execution_count": null,
      "outputs": []
    },
    {
      "cell_type": "code",
      "source": [
        "arr_subjects = arr_subjects.T"
      ],
      "metadata": {
        "id": "hPJ41xDucCr0"
      },
      "execution_count": null,
      "outputs": []
    },
    {
      "cell_type": "code",
      "source": [
        "arr_subjects"
      ],
      "metadata": {
        "colab": {
          "base_uri": "https://localhost:8080/"
        },
        "id": "b12fp0mrUtf_",
        "outputId": "dc6df9b9-b7c5-48fe-ec28-e2cbd449a67a"
      },
      "execution_count": null,
      "outputs": [
        {
          "output_type": "execute_result",
          "data": {
            "text/plain": [
              "array([['S1', 'S2', 'S3', 'S4'],\n",
              "       ['S1', 'S2', 'S3', 'S4'],\n",
              "       ['S1', 'S2', 'S3', 'S4'],\n",
              "       ['S1', 'S2', 'S3', 'S4']], dtype='<U2')"
            ]
          },
          "metadata": {},
          "execution_count": 324
        }
      ]
    },
    {
      "cell_type": "markdown",
      "source": [
        "# Data Combination"
      ],
      "metadata": {
        "id": "KMs4xS_CLlhM"
      }
    },
    {
      "cell_type": "code",
      "source": [
        "new_std = np.array(['E'])\n",
        "new_marks = np.array([[17,70,90,20]])\n",
        "new_subjects = np.array([['S1','S2','S3','S4']])"
      ],
      "metadata": {
        "id": "nilcJ1p-eZK7"
      },
      "execution_count": null,
      "outputs": []
    },
    {
      "cell_type": "code",
      "source": [
        "arr_std = np.concatenate((arr_std,new_std))\n",
        "arr_std"
      ],
      "metadata": {
        "colab": {
          "base_uri": "https://localhost:8080/"
        },
        "id": "0dlmaaVC3T48",
        "outputId": "cc77115c-c967-4061-e17e-943f17f561ee"
      },
      "execution_count": null,
      "outputs": [
        {
          "output_type": "execute_result",
          "data": {
            "text/plain": [
              "array(['A', 'B', 'C', 'D', 'E'], dtype='<U1')"
            ]
          },
          "metadata": {},
          "execution_count": 326
        }
      ]
    },
    {
      "cell_type": "code",
      "source": [
        "arr_subjects = np.concatenate((arr_subjects,new_subjects))\n",
        "arr_subjects"
      ],
      "metadata": {
        "colab": {
          "base_uri": "https://localhost:8080/"
        },
        "id": "mi-taNu73oWL",
        "outputId": "ee8a247f-d207-48a9-babe-e8b3d62fc1fc"
      },
      "execution_count": null,
      "outputs": [
        {
          "output_type": "execute_result",
          "data": {
            "text/plain": [
              "array([['S1', 'S2', 'S3', 'S4'],\n",
              "       ['S1', 'S2', 'S3', 'S4'],\n",
              "       ['S1', 'S2', 'S3', 'S4'],\n",
              "       ['S1', 'S2', 'S3', 'S4'],\n",
              "       ['S1', 'S2', 'S3', 'S4']], dtype='<U2')"
            ]
          },
          "metadata": {},
          "execution_count": 327
        }
      ]
    },
    {
      "cell_type": "code",
      "source": [
        "arr_marks = np.concatenate((arr_marks,new_marks))\n",
        "arr_marks"
      ],
      "metadata": {
        "colab": {
          "base_uri": "https://localhost:8080/"
        },
        "id": "8WQFoBl133de",
        "outputId": "0c4a8959-3772-4541-9601-044806c4edb7"
      },
      "execution_count": null,
      "outputs": [
        {
          "output_type": "execute_result",
          "data": {
            "text/plain": [
              "array([[10, 20, 30, 40],\n",
              "       [15, 60, 70, 80],\n",
              "       [15, 80, 40, 20],\n",
              "       [25, 40, 50, 60],\n",
              "       [17, 70, 90, 20]])"
            ]
          },
          "metadata": {},
          "execution_count": 328
        }
      ]
    },
    {
      "cell_type": "code",
      "source": [
        "split_std = np.split(arr_std, 5)\n",
        "split_sub = np.split(arr_subjects,5)"
      ],
      "metadata": {
        "id": "lmkKzpeS4zf9"
      },
      "execution_count": null,
      "outputs": []
    },
    {
      "cell_type": "code",
      "source": [
        "split_std"
      ],
      "metadata": {
        "colab": {
          "base_uri": "https://localhost:8080/"
        },
        "id": "3fLmSNgN43_X",
        "outputId": "de933831-17f3-4ddc-cb1e-7ace58fcdebb"
      },
      "execution_count": null,
      "outputs": [
        {
          "output_type": "execute_result",
          "data": {
            "text/plain": [
              "[array(['A'], dtype='<U1'),\n",
              " array(['B'], dtype='<U1'),\n",
              " array(['C'], dtype='<U1'),\n",
              " array(['D'], dtype='<U1'),\n",
              " array(['E'], dtype='<U1')]"
            ]
          },
          "metadata": {},
          "execution_count": 330
        }
      ]
    },
    {
      "cell_type": "code",
      "source": [
        "split_sub"
      ],
      "metadata": {
        "colab": {
          "base_uri": "https://localhost:8080/"
        },
        "id": "F3NZCYcB45cG",
        "outputId": "c2220221-872e-4fed-9b88-5876b914e9a2"
      },
      "execution_count": null,
      "outputs": [
        {
          "output_type": "execute_result",
          "data": {
            "text/plain": [
              "[array([['S1', 'S2', 'S3', 'S4']], dtype='<U2'),\n",
              " array([['S1', 'S2', 'S3', 'S4']], dtype='<U2'),\n",
              " array([['S1', 'S2', 'S3', 'S4']], dtype='<U2'),\n",
              " array([['S1', 'S2', 'S3', 'S4']], dtype='<U2'),\n",
              " array([['S1', 'S2', 'S3', 'S4']], dtype='<U2')]"
            ]
          },
          "metadata": {},
          "execution_count": 331
        }
      ]
    },
    {
      "cell_type": "markdown",
      "source": [
        "# Data Modification"
      ],
      "metadata": {
        "id": "rDer7kAJLseF"
      }
    },
    {
      "cell_type": "code",
      "source": [
        "len(arr_marks)"
      ],
      "metadata": {
        "colab": {
          "base_uri": "https://localhost:8080/"
        },
        "id": "8v7tMGfa61HE",
        "outputId": "ba0498c3-9a53-46a4-b9ef-fec18d61674f"
      },
      "execution_count": null,
      "outputs": [
        {
          "output_type": "execute_result",
          "data": {
            "text/plain": [
              "5"
            ]
          },
          "metadata": {},
          "execution_count": 332
        }
      ]
    },
    {
      "cell_type": "code",
      "source": [
        "for i in range(len(arr_marks)):\n",
        "  for j in range(len(arr_marks[i])):\n",
        "      if arr_marks[i,j] < 35:\n",
        "        arr_marks[i,j] = arr_marks[i,j] + 5\n",
        "\n",
        "\n",
        "arr_marks"
      ],
      "metadata": {
        "colab": {
          "base_uri": "https://localhost:8080/"
        },
        "id": "dXGdKOhO51aM",
        "outputId": "8d833e67-f6c9-4029-f16e-d86b4bdf9434"
      },
      "execution_count": null,
      "outputs": [
        {
          "output_type": "execute_result",
          "data": {
            "text/plain": [
              "array([[15, 25, 35, 40],\n",
              "       [20, 60, 70, 80],\n",
              "       [20, 80, 40, 25],\n",
              "       [30, 40, 50, 60],\n",
              "       [22, 70, 90, 25]])"
            ]
          },
          "metadata": {},
          "execution_count": 333
        }
      ]
    },
    {
      "cell_type": "code",
      "source": [
        "np.unique(arr_marks)"
      ],
      "metadata": {
        "colab": {
          "base_uri": "https://localhost:8080/"
        },
        "id": "Sl2M6Hdx48nZ",
        "outputId": "dfb2bfd7-0d67-4a53-fa8c-95d642bba04f"
      },
      "execution_count": null,
      "outputs": [
        {
          "output_type": "execute_result",
          "data": {
            "text/plain": [
              "array([15, 20, 22, 25, 30, 35, 40, 50, 60, 70, 80, 90])"
            ]
          },
          "metadata": {},
          "execution_count": 334
        }
      ]
    },
    {
      "cell_type": "markdown",
      "source": [
        "# Data Type Handling"
      ],
      "metadata": {
        "id": "fmNF4gJmLyxj"
      }
    },
    {
      "cell_type": "code",
      "source": [
        "arr_marks.astype(dtype=float)"
      ],
      "metadata": {
        "colab": {
          "base_uri": "https://localhost:8080/"
        },
        "id": "qWhBzsRgA_S3",
        "outputId": "72a3e111-0e3f-4cb8-be33-66f2b4623969"
      },
      "execution_count": null,
      "outputs": [
        {
          "output_type": "execute_result",
          "data": {
            "text/plain": [
              "array([[15., 25., 35., 40.],\n",
              "       [20., 60., 70., 80.],\n",
              "       [20., 80., 40., 25.],\n",
              "       [30., 40., 50., 60.],\n",
              "       [22., 70., 90., 25.]])"
            ]
          },
          "metadata": {},
          "execution_count": 335
        }
      ]
    },
    {
      "cell_type": "code",
      "source": [
        "arr_marks.astype(dtype=str)"
      ],
      "metadata": {
        "colab": {
          "base_uri": "https://localhost:8080/"
        },
        "id": "t3zO_sTbBZkX",
        "outputId": "28e80e0f-3ca7-4316-d99c-7d3de625868e"
      },
      "execution_count": null,
      "outputs": [
        {
          "output_type": "execute_result",
          "data": {
            "text/plain": [
              "array([['15', '25', '35', '40'],\n",
              "       ['20', '60', '70', '80'],\n",
              "       ['20', '80', '40', '25'],\n",
              "       ['30', '40', '50', '60'],\n",
              "       ['22', '70', '90', '25']], dtype='<U21')"
            ]
          },
          "metadata": {},
          "execution_count": 336
        }
      ]
    },
    {
      "cell_type": "markdown",
      "source": [
        "# Copy and View Behaviour"
      ],
      "metadata": {
        "id": "NOuRQ8Q3L4Qr"
      }
    },
    {
      "cell_type": "code",
      "source": [
        "new_arr = arr_subjects.copy()"
      ],
      "metadata": {
        "id": "-KkCQtxxBfNC"
      },
      "execution_count": null,
      "outputs": []
    },
    {
      "cell_type": "code",
      "source": [
        "new_arr[0][1] = 'S9'"
      ],
      "metadata": {
        "id": "MKmtbAkPB9q7"
      },
      "execution_count": null,
      "outputs": []
    },
    {
      "cell_type": "code",
      "source": [
        "new_arr"
      ],
      "metadata": {
        "colab": {
          "base_uri": "https://localhost:8080/"
        },
        "id": "HPRJ50abKxYs",
        "outputId": "d16f13be-c5e0-47b1-c5c3-1adf9833844a"
      },
      "execution_count": null,
      "outputs": [
        {
          "output_type": "execute_result",
          "data": {
            "text/plain": [
              "array([['S1', 'S9', 'S3', 'S4'],\n",
              "       ['S1', 'S2', 'S3', 'S4'],\n",
              "       ['S1', 'S2', 'S3', 'S4'],\n",
              "       ['S1', 'S2', 'S3', 'S4'],\n",
              "       ['S1', 'S2', 'S3', 'S4']], dtype='<U2')"
            ]
          },
          "metadata": {},
          "execution_count": 339
        }
      ]
    },
    {
      "cell_type": "code",
      "source": [
        "arr_subjects"
      ],
      "metadata": {
        "colab": {
          "base_uri": "https://localhost:8080/"
        },
        "id": "zrVzme1fKyqU",
        "outputId": "3c24f6f3-a706-493e-d225-cb956ddf2685"
      },
      "execution_count": null,
      "outputs": [
        {
          "output_type": "execute_result",
          "data": {
            "text/plain": [
              "array([['S1', 'S2', 'S3', 'S4'],\n",
              "       ['S1', 'S2', 'S3', 'S4'],\n",
              "       ['S1', 'S2', 'S3', 'S4'],\n",
              "       ['S1', 'S2', 'S3', 'S4'],\n",
              "       ['S1', 'S2', 'S3', 'S4']], dtype='<U2')"
            ]
          },
          "metadata": {},
          "execution_count": 340
        }
      ]
    },
    {
      "cell_type": "code",
      "source": [
        "new_arr = arr_subjects.view()\n",
        "new_arr[1][2] = 'S8'\n",
        "new_arr"
      ],
      "metadata": {
        "colab": {
          "base_uri": "https://localhost:8080/"
        },
        "id": "mOvWxd5mK04p",
        "outputId": "08aa73d1-9221-4edd-c127-14e830dadd5d"
      },
      "execution_count": null,
      "outputs": [
        {
          "output_type": "execute_result",
          "data": {
            "text/plain": [
              "array([['S1', 'S2', 'S3', 'S4'],\n",
              "       ['S1', 'S2', 'S8', 'S4'],\n",
              "       ['S1', 'S2', 'S3', 'S4'],\n",
              "       ['S1', 'S2', 'S3', 'S4'],\n",
              "       ['S1', 'S2', 'S3', 'S4']], dtype='<U2')"
            ]
          },
          "metadata": {},
          "execution_count": 341
        }
      ]
    },
    {
      "cell_type": "code",
      "source": [
        "arr_subjects"
      ],
      "metadata": {
        "colab": {
          "base_uri": "https://localhost:8080/"
        },
        "id": "esBnHTcfLCZX",
        "outputId": "7548c8e0-9eef-4d81-e907-9494918a8572"
      },
      "execution_count": null,
      "outputs": [
        {
          "output_type": "execute_result",
          "data": {
            "text/plain": [
              "array([['S1', 'S2', 'S3', 'S4'],\n",
              "       ['S1', 'S2', 'S8', 'S4'],\n",
              "       ['S1', 'S2', 'S3', 'S4'],\n",
              "       ['S1', 'S2', 'S3', 'S4'],\n",
              "       ['S1', 'S2', 'S3', 'S4']], dtype='<U2')"
            ]
          },
          "metadata": {},
          "execution_count": 342
        }
      ]
    },
    {
      "cell_type": "code",
      "source": [],
      "metadata": {
        "id": "lUZqGbS3LD_A"
      },
      "execution_count": null,
      "outputs": []
    }
  ]
}